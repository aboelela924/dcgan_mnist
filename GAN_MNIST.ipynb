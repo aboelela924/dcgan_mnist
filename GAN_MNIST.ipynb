{
  "nbformat": 4,
  "nbformat_minor": 0,
  "metadata": {
    "colab": {
      "name": "GAN_MNIST.ipynb",
      "provenance": [],
      "collapsed_sections": [],
      "authorship_tag": "ABX9TyPVhyQ/BFE34EM0R6nVUmvI",
      "include_colab_link": true
    },
    "kernelspec": {
      "name": "python3",
      "display_name": "Python 3"
    },
    "accelerator": "GPU"
  },
  "cells": [
    {
      "cell_type": "markdown",
      "metadata": {
        "id": "view-in-github",
        "colab_type": "text"
      },
      "source": [
        "<a href=\"https://colab.research.google.com/github/aboelela924/dcgan_mnist/blob/master/GAN_MNIST.ipynb\" target=\"_parent\"><img src=\"https://colab.research.google.com/assets/colab-badge.svg\" alt=\"Open In Colab\"/></a>"
      ]
    },
    {
      "cell_type": "code",
      "metadata": {
        "id": "3bUHFcu2eRbZ",
        "colab_type": "code",
        "colab": {}
      },
      "source": [
        "import tensorflow as tf \n",
        "from tensorflow import keras \n",
        "import tensorflow_datasets as tfds\n",
        "from tensorflow import nn\n",
        "import numpy as np \n",
        "import matplotlib.pyplot as plt "
      ],
      "execution_count": 238,
      "outputs": []
    },
    {
      "cell_type": "code",
      "metadata": {
        "id": "tOyAFUErfCKd",
        "colab_type": "code",
        "colab": {}
      },
      "source": [
        "ds_train, info = tfds.load(\"mnist\", split=\"train\", as_supervised=True, \n",
        "                                      with_info=True)\n",
        "ds_test, info = tfds.load(\"mnist\", split=\"test\", as_supervised=True, \n",
        "                                      with_info=True)"
      ],
      "execution_count": 239,
      "outputs": []
    },
    {
      "cell_type": "code",
      "metadata": {
        "id": "61N2YwTpoQ73",
        "colab_type": "code",
        "colab": {}
      },
      "source": [
        "def normalize(image, label):\n",
        "    image = tf.cast(image, tf.float32)\n",
        "    image = (image - 127.5) / 127.5\n",
        "    return image, label"
      ],
      "execution_count": 240,
      "outputs": []
    },
    {
      "cell_type": "code",
      "metadata": {
        "id": "BNEhHv1f_-WB",
        "colab_type": "code",
        "colab": {}
      },
      "source": [
        "BUFFER_SIZE = 60000\n",
        "BATCH_SIZE = 256"
      ],
      "execution_count": 241,
      "outputs": []
    },
    {
      "cell_type": "code",
      "metadata": {
        "id": "VQp-ogVFoud7",
        "colab_type": "code",
        "colab": {}
      },
      "source": [
        "ds_train = ds_train.map(normalize, num_parallel_calls=tf.data.experimental.AUTOTUNE)\n",
        "ds_train = ds_train.cache()\n",
        "ds_train = ds_train.shuffle(BUFFER_SIZE)\n",
        "ds_train = ds_train.batch(BATCH_SIZE)\n",
        "ds_train = ds_train.prefetch(tf.data.experimental.AUTOTUNE)"
      ],
      "execution_count": 242,
      "outputs": []
    },
    {
      "cell_type": "code",
      "metadata": {
        "id": "GLrHIn4Ppwa4",
        "colab_type": "code",
        "colab": {}
      },
      "source": [
        "ds_test = ds_test.map(normalize, num_parallel_calls=tf.data.experimental.AUTOTUNE)\n",
        "ds_test = ds_test.batch(BATCH_SIZE)\n",
        "ds_test = ds_test.prefetch(tf.data.experimental.AUTOTUNE)"
      ],
      "execution_count": 243,
      "outputs": []
    },
    {
      "cell_type": "code",
      "metadata": {
        "id": "XynctvYfpwRT",
        "colab_type": "code",
        "colab": {}
      },
      "source": [
        "def loss_real(label):\n",
        "    criterion = tf.losses.BinaryCrossentropy(from_logits=True)\n",
        "    return criterion(tf.ones_like(label), label)"
      ],
      "execution_count": 244,
      "outputs": []
    },
    {
      "cell_type": "code",
      "metadata": {
        "id": "x8lxm3SlrzfW",
        "colab_type": "code",
        "colab": {}
      },
      "source": [
        "def loss_fake(label):\n",
        "    criterion = tf.losses.BinaryCrossentropy(from_logits=True)\n",
        "    return criterion(tf.zeros_like(label), label)"
      ],
      "execution_count": 245,
      "outputs": []
    },
    {
      "cell_type": "code",
      "metadata": {
        "id": "PMmom9nY37mA",
        "colab_type": "code",
        "colab": {}
      },
      "source": [
        "g_optimizer = tf.keras.optimizers.Adam(1e-4)\n",
        "d_optimizer = tf.keras.optimizers.Adam(1e-4)"
      ],
      "execution_count": 246,
      "outputs": []
    },
    {
      "cell_type": "code",
      "metadata": {
        "id": "5fpLfcIhr8v5",
        "colab_type": "code",
        "colab": {
          "base_uri": "https://localhost:8080/",
          "height": 416
        },
        "outputId": "e796268f-3418-4785-c4aa-a964a4da434f"
      },
      "source": [
        "discriminator = keras.Sequential([\n",
        "                                  \n",
        "            keras.layers.Conv2D(64, 5, 2,padding=\"same\", input_shape=(28,28, 1)),\n",
        "            keras.layers.LeakyReLU(),\n",
        "            keras.layers.Dropout(0.3),\n",
        "\n",
        "            keras.layers.Conv2D(128, 5, 2,padding=\"same\"),\n",
        "            keras.layers.LeakyReLU(),\n",
        "            keras.layers.Dropout(0.3),\n",
        "\n",
        "            # keras.layers.MaxPooling2D(pool_size=4),\n",
        "            keras.layers.Flatten(),\n",
        "            # keras.layers.Conv2D(64, 3, 2,padding=\"same\"),\n",
        "            # keras.layers.LeakyReLU(alpha=0.2),\n",
        "            # keras.layers.Dropout(0.2),\n",
        "            # keras.layers.Conv2D(64, 3, 2,padding=\"same\"),\n",
        "            # keras.layers.LeakyReLU(alpha=0.2),\n",
        "            # keras.layers.Dropout(0.2),\n",
        "            # keras.layers.Conv2D(64, 3, 2,padding=\"same\"),\n",
        "            # keras.layers.LeakyReLU(alpha=0.2),\n",
        "            # keras.layers.Flatten(),\n",
        "            keras.layers.Dense(1)\n",
        "])\n",
        "discriminator.summary()"
      ],
      "execution_count": 247,
      "outputs": [
        {
          "output_type": "stream",
          "text": [
            "Model: \"sequential_32\"\n",
            "_________________________________________________________________\n",
            "Layer (type)                 Output Shape              Param #   \n",
            "=================================================================\n",
            "conv2d_46 (Conv2D)           (None, 14, 14, 64)        1664      \n",
            "_________________________________________________________________\n",
            "leaky_re_lu_76 (LeakyReLU)   (None, 14, 14, 64)        0         \n",
            "_________________________________________________________________\n",
            "dropout_44 (Dropout)         (None, 14, 14, 64)        0         \n",
            "_________________________________________________________________\n",
            "conv2d_47 (Conv2D)           (None, 7, 7, 128)         204928    \n",
            "_________________________________________________________________\n",
            "leaky_re_lu_77 (LeakyReLU)   (None, 7, 7, 128)         0         \n",
            "_________________________________________________________________\n",
            "dropout_45 (Dropout)         (None, 7, 7, 128)         0         \n",
            "_________________________________________________________________\n",
            "flatten_20 (Flatten)         (None, 6272)              0         \n",
            "_________________________________________________________________\n",
            "dense_32 (Dense)             (None, 1)                 6273      \n",
            "=================================================================\n",
            "Total params: 212,865\n",
            "Trainable params: 212,865\n",
            "Non-trainable params: 0\n",
            "_________________________________________________________________\n"
          ],
          "name": "stdout"
        }
      ]
    },
    {
      "cell_type": "code",
      "metadata": {
        "id": "KFkQ_6v22Oj1",
        "colab_type": "code",
        "colab": {
          "base_uri": "https://localhost:8080/",
          "height": 516
        },
        "outputId": "708227c7-ce80-4ba9-c61e-1c6322128370"
      },
      "source": [
        "noise_vector_length = 128\n",
        "\n",
        "\n",
        "generator = keras.Sequential([           \n",
        "    keras.layers.Dense(7*7*256, input_shape=(noise_vector_length, ), use_bias=False),\n",
        "    keras.layers.BatchNormalization(),\n",
        "    keras.layers.LeakyReLU(),\n",
        "\n",
        "    keras.layers.Reshape((7,7,256)),                          \n",
        "    \n",
        "    keras.layers.Conv2DTranspose(128, 5, 1, padding=\"same\", use_bias=False),\n",
        "    keras.layers.BatchNormalization(),\n",
        "    keras.layers.LeakyReLU(),\n",
        "    \n",
        "    keras.layers.Conv2DTranspose(64, 5, 2, padding=\"same\",use_bias=False),\n",
        "    keras.layers.BatchNormalization(),\n",
        "    keras.layers.LeakyReLU(),\n",
        "\n",
        "    keras.layers.Conv2DTranspose(1, 5, 2, padding=\"same\", activation=\"tanh\", use_bias=False)\n",
        "])\n",
        "\n",
        "generator.summary()"
      ],
      "execution_count": 248,
      "outputs": [
        {
          "output_type": "stream",
          "text": [
            "Model: \"sequential_33\"\n",
            "_________________________________________________________________\n",
            "Layer (type)                 Output Shape              Param #   \n",
            "=================================================================\n",
            "dense_33 (Dense)             (None, 12544)             1605632   \n",
            "_________________________________________________________________\n",
            "batch_normalization_37 (Batc (None, 12544)             50176     \n",
            "_________________________________________________________________\n",
            "leaky_re_lu_78 (LeakyReLU)   (None, 12544)             0         \n",
            "_________________________________________________________________\n",
            "reshape_12 (Reshape)         (None, 7, 7, 256)         0         \n",
            "_________________________________________________________________\n",
            "conv2d_transpose_38 (Conv2DT (None, 7, 7, 128)         819200    \n",
            "_________________________________________________________________\n",
            "batch_normalization_38 (Batc (None, 7, 7, 128)         512       \n",
            "_________________________________________________________________\n",
            "leaky_re_lu_79 (LeakyReLU)   (None, 7, 7, 128)         0         \n",
            "_________________________________________________________________\n",
            "conv2d_transpose_39 (Conv2DT (None, 14, 14, 64)        204800    \n",
            "_________________________________________________________________\n",
            "batch_normalization_39 (Batc (None, 14, 14, 64)        256       \n",
            "_________________________________________________________________\n",
            "leaky_re_lu_80 (LeakyReLU)   (None, 14, 14, 64)        0         \n",
            "_________________________________________________________________\n",
            "conv2d_transpose_40 (Conv2DT (None, 28, 28, 1)         1600      \n",
            "=================================================================\n",
            "Total params: 2,682,176\n",
            "Trainable params: 2,656,704\n",
            "Non-trainable params: 25,472\n",
            "_________________________________________________________________\n"
          ],
          "name": "stdout"
        }
      ]
    },
    {
      "cell_type": "code",
      "metadata": {
        "id": "MC-wWcVuDJwC",
        "colab_type": "code",
        "colab": {}
      },
      "source": [
        "@tf.function\n",
        "def train_step(images):\n",
        "    noise_vector = tf.random.normal((BATCH_SIZE, noise_vector_length))\n",
        "    \n",
        "    \n",
        "    real_images = images\n",
        "\n",
        "    with tf.GradientTape() as d_tape:\n",
        "        d_fake_images = generator(noise_vector)\n",
        "\n",
        "        d_out_real = discriminator(real_images, training=True)\n",
        "        d_out_fake = discriminator(d_fake_images, training=True)\n",
        "\n",
        "        d_loss = loss_real(d_out_real) + loss_fake(d_out_fake)\n",
        "    \n",
        "    noise_vector = tf.random.normal((BATCH_SIZE, noise_vector_length))\n",
        "    with tf.GradientTape() as g_tape:\n",
        "        g_fake_images = generator(noise_vector, training=True)\n",
        "        g_out = discriminator(g_fake_images)\n",
        "        g_loss = loss_real(g_out)\n",
        "\n",
        "\n",
        "    d_grads = d_tape.gradient(d_loss, discriminator.trainable_weights)\n",
        "    d_optimizer.apply_gradients(zip(d_grads, discriminator.trainable_weights))\n",
        "\n",
        "    g_grads = g_tape.gradient(g_loss, generator.trainable_weights)\n",
        "    g_optimizer.apply_gradients(zip(g_grads, generator.trainable_weights))\n",
        "     \n",
        "    \n",
        "    return d_loss, g_loss\n"
      ],
      "execution_count": 250,
      "outputs": []
    },
    {
      "cell_type": "code",
      "metadata": {
        "id": "XtURJGIxcgUO",
        "colab_type": "code",
        "colab": {}
      },
      "source": [
        "@tf.function\n",
        "def validation_step(images):\n",
        "    noise_vector = tf.random.normal((BATCH_SIZE, noise_vector_length))\n",
        "    g_fake_images = generator(noise_vector)\n",
        "    g_out = discriminator(g_fake_images)\n",
        "    print(g_out)\n",
        "    g_loss = loss_real(g_out)\n",
        "    return g_loss"
      ],
      "execution_count": 251,
      "outputs": []
    },
    {
      "cell_type": "code",
      "metadata": {
        "id": "wwd4irbuZGwI",
        "colab_type": "code",
        "colab": {}
      },
      "source": [
        "import os\n",
        "\n",
        "path = \"/content/training_checkpoints\"\n",
        "if not os.path.isdir(path):\n",
        "    os.mkdir(path)\n",
        "\n",
        "checkpoint_dir = '/content/training_checkpoints'\n",
        "checkpoint_prefix = os.path.join(checkpoint_dir, \"ckpt\")\n",
        "checkpoint = tf.train.Checkpoint(generator_optimizer=g_optimizer,\n",
        "                                 discriminator_optimizer=d_optimizer,\n",
        "                                 generator=generator,\n",
        "                                 discriminator=discriminator)"
      ],
      "execution_count": 252,
      "outputs": []
    },
    {
      "cell_type": "code",
      "metadata": {
        "id": "i9IDqdvuZ4VE",
        "colab_type": "code",
        "colab": {
          "base_uri": "https://localhost:8080/",
          "height": 1000
        },
        "outputId": "bcf60ffa-6abb-48e4-a8aa-b547a153a267"
      },
      "source": [
        "EPOCHS = 100\n",
        "\n",
        "def train(dataset, val_dataset,epochs=10):\n",
        "\n",
        "    for e in range(epochs):\n",
        "        i = 0\n",
        "        print(f\"Epoch: {e+1}\")\n",
        "        for batch, labels in dataset:\n",
        "            i+=1\n",
        "            d_loss, g_loss = train_step(batch)\n",
        "            if (i % 100 == 0):\n",
        "                print(f\"Discriminator loss: {d_loss.numpy()}, Generator loss: {g_loss.numpy()}\")\n",
        "\n",
        "\n",
        "        if (e + 1) % 10 == 0:\n",
        "            checkpoint.save(file_prefix = checkpoint_prefix)\n",
        "        # for batch, labels in val_dataset:\n",
        "        #     i+=1\n",
        "        #     g_loss = validation_step(batch)\n",
        "        #     if (i % 100 == 0):\n",
        "        #         print(f\"Generator validation loss: {g_loss.numpy()}\")\n",
        "\n",
        "train(ds_train, ds_test, EPOCHS)\n"
      ],
      "execution_count": 266,
      "outputs": [
        {
          "output_type": "stream",
          "text": [
            "Epoch: 1\n",
            "Discriminator loss: 1.31233549118042, Generator loss: 0.7794954180717468\n",
            "Discriminator loss: 1.2516810894012451, Generator loss: 0.8915071487426758\n",
            "Epoch: 2\n",
            "Discriminator loss: 1.223323106765747, Generator loss: 0.7697426676750183\n",
            "Discriminator loss: 1.227557897567749, Generator loss: 0.8312348127365112\n",
            "Epoch: 3\n",
            "Discriminator loss: 1.2388931512832642, Generator loss: 0.9343019723892212\n",
            "Discriminator loss: 1.2251348495483398, Generator loss: 0.9681192636489868\n",
            "Epoch: 4\n",
            "Discriminator loss: 1.3070257902145386, Generator loss: 0.7253121137619019\n",
            "Discriminator loss: 1.2952141761779785, Generator loss: 0.8586172461509705\n",
            "Epoch: 5\n",
            "Discriminator loss: 1.3817870616912842, Generator loss: 0.7736858129501343\n",
            "Discriminator loss: 1.3087449073791504, Generator loss: 0.8806925415992737\n",
            "Epoch: 6\n",
            "Discriminator loss: 1.2910481691360474, Generator loss: 0.8744495511054993\n",
            "Discriminator loss: 1.2500603199005127, Generator loss: 0.7885403037071228\n",
            "Epoch: 7\n",
            "Discriminator loss: 1.2520015239715576, Generator loss: 0.9151402115821838\n",
            "Discriminator loss: 1.3283029794692993, Generator loss: 0.8540192246437073\n",
            "Epoch: 8\n",
            "Discriminator loss: 1.2527987957000732, Generator loss: 0.938971757888794\n",
            "Discriminator loss: 1.25837242603302, Generator loss: 0.8528100848197937\n",
            "Epoch: 9\n",
            "Discriminator loss: 1.2504217624664307, Generator loss: 0.9825996160507202\n",
            "Discriminator loss: 1.2571568489074707, Generator loss: 0.898610532283783\n",
            "Epoch: 10\n",
            "Discriminator loss: 1.3272030353546143, Generator loss: 0.7520756125450134\n",
            "Discriminator loss: 1.224060297012329, Generator loss: 0.8910282850265503\n",
            "Epoch: 11\n",
            "Discriminator loss: 1.1104795932769775, Generator loss: 0.9254190325737\n",
            "Discriminator loss: 1.199590802192688, Generator loss: 0.829764187335968\n",
            "Epoch: 12\n",
            "Discriminator loss: 1.227818489074707, Generator loss: 0.9048678278923035\n",
            "Discriminator loss: 1.2484865188598633, Generator loss: 0.8857446312904358\n",
            "Epoch: 13\n",
            "Discriminator loss: 1.1379921436309814, Generator loss: 0.8622503280639648\n",
            "Discriminator loss: 1.2546486854553223, Generator loss: 1.3263531923294067\n",
            "Epoch: 14\n",
            "Discriminator loss: 1.1824586391448975, Generator loss: 1.0949792861938477\n",
            "Discriminator loss: 1.2554539442062378, Generator loss: 0.9682395458221436\n",
            "Epoch: 15\n",
            "Discriminator loss: 1.2319869995117188, Generator loss: 0.8686694502830505\n",
            "Discriminator loss: 1.2127994298934937, Generator loss: 0.8614405393600464\n",
            "Epoch: 16\n",
            "Discriminator loss: 1.2889974117279053, Generator loss: 0.8418495059013367\n",
            "Discriminator loss: 1.2439544200897217, Generator loss: 0.8655876517295837\n",
            "Epoch: 17\n",
            "Discriminator loss: 1.2039735317230225, Generator loss: 0.9290145635604858\n",
            "Discriminator loss: 1.1196644306182861, Generator loss: 0.9527153372764587\n",
            "Epoch: 18\n",
            "Discriminator loss: 1.3048961162567139, Generator loss: 0.8707098960876465\n",
            "Discriminator loss: 1.333783507347107, Generator loss: 0.8719298243522644\n",
            "Epoch: 19\n",
            "Discriminator loss: 1.4538555145263672, Generator loss: 0.892436683177948\n",
            "Discriminator loss: 1.3446931838989258, Generator loss: 0.8105887174606323\n",
            "Epoch: 20\n",
            "Discriminator loss: 1.1010149717330933, Generator loss: 0.9541870355606079\n",
            "Discriminator loss: 1.185194492340088, Generator loss: 1.2679190635681152\n"
          ],
          "name": "stdout"
        }
      ]
    },
    {
      "cell_type": "code",
      "metadata": {
        "id": "lxEG2i1T0tgE",
        "colab_type": "code",
        "colab": {
          "base_uri": "https://localhost:8080/",
          "height": 268
        },
        "outputId": "890575ac-eaf0-402d-c866-81e5c0cf9b71"
      },
      "source": [
        "fig, axs = plt.subplots(5,4)\n",
        "for i in range(5):\n",
        "    for j in range(4):\n",
        "        noise = tf.random.normal([1, noise_vector_length])\n",
        "        generated_image = generator(noise, training=False)\n",
        "        axs[i,j].imshow(generated_image[0, :, :, 0], cmap='gray')"
      ],
      "execution_count": 267,
      "outputs": [
        {
          "output_type": "display_data",
          "data": {
            "image/png": "[encoded data removed]",
            "text/plain": [
              "<Figure size 432x288 with 20 Axes>"
            ]
          },
          "metadata": {
            "tags": [],
            "needs_background": "light"
          }
        }
      ]
    }
  ]
}